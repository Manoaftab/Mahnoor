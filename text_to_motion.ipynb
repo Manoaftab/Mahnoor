{
 "cells": [
  {
   "cell_type": "code",
   "execution_count": 11,
   "metadata": {},
   "outputs": [
    {
     "name": "stdout",
     "output_type": "stream",
     "text": [
      "Using device: cuda\n"
     ]
    }
   ],
   "source": [
    "import os\n",
    "import pickle\n",
    "import pandas as pd\n",
    "import numpy as np\n",
    "import torch\n",
    "from torch.utils.data import Dataset, DataLoader\n",
    "from transformers import BertTokenizer, BertModel\n",
    "import torch.nn as nn\n",
    "import torch.optim as optim\n",
    "from tqdm import tqdm  # Progress bar library\n",
    "from sklearn.metrics import mean_squared_error, mean_absolute_error, r2_score, accuracy_score, f1_score, precision_score, recall_score\n",
    "\n",
    "# Check if GPU is available and set the device accordingly\n",
    "device = torch.device(\"cuda\" if torch.cuda.is_available() else \"cpu\")\n",
    "print(f\"Using device: {device}\")\n"
   ]
  },
  {
   "cell_type": "code",
   "execution_count": 12,
   "metadata": {},
   "outputs": [
    {
     "name": "stdout",
     "output_type": "stream",
     "text": [
      "Motion data keys: dict_keys(['left_valid', 'right_valid', 'total_valid_index', '2d', 'smplx', 'unsmooth_smplx', 'bb2img_trans', 'focal', 'princpt', 'height', 'width'])\n",
      "Train Data Sample: \n",
      "       VIDEO_ID               VIDEO_NAME     SENTENCE_ID  \\\n",
      "0  --7E2sU6zP4  --7E2sU6zP4-5-rgb_front  --7E2sU6zP4_10   \n",
      "1  --7E2sU6zP4  --7E2sU6zP4-5-rgb_front  --7E2sU6zP4_11   \n",
      "2  --7E2sU6zP4  --7E2sU6zP4-5-rgb_front  --7E2sU6zP4_12   \n",
      "3  --7E2sU6zP4  --7E2sU6zP4-5-rgb_front  --7E2sU6zP4_13   \n",
      "4  --7E2sU6zP4  --7E2sU6zP4-5-rgb_front   --7E2sU6zP4_5   \n",
      "\n",
      "                SENTENCE_NAME   START     END  \\\n",
      "0  --7E2sU6zP4_10-5-rgb_front   94.95  106.38   \n",
      "1  --7E2sU6zP4_11-5-rgb_front  107.50  125.18   \n",
      "2  --7E2sU6zP4_12-5-rgb_front  125.18  136.09   \n",
      "3  --7E2sU6zP4_13-5-rgb_front  136.52  141.03   \n",
      "4   --7E2sU6zP4_5-5-rgb_front   42.68   49.33   \n",
      "\n",
      "                                            SENTENCE  \n",
      "0  And I call them decorative elements because ba...  \n",
      "1  So they don't really have much of a symbolic m...  \n",
      "2  Now this is very, this is actually an insert o...  \n",
      "3  This is all the you know, take off on the idea...  \n",
      "4     It's almost has a feathery like posture to it.  \n",
      "Test Data Sample: \n",
      "       VIDEO_ID               VIDEO_NAME    SENTENCE_ID  \\\n",
      "0  -fZc293MpJk  -fZc293MpJk-1-rgb_front  -fZc293MpJk_0   \n",
      "1  -fZc293MpJk  -fZc293MpJk-1-rgb_front  -fZc293MpJk_2   \n",
      "2  -fZc293MpJk  -fZc293MpJk-1-rgb_front  -fZc293MpJk_3   \n",
      "3  -fZc293MpJk  -fZc293MpJk-1-rgb_front  -fZc293MpJk_4   \n",
      "4  -fZc293MpJk  -fZc293MpJk-1-rgb_front  -fZc293MpJk_5   \n",
      "\n",
      "               SENTENCE_NAME  START    END  \\\n",
      "0  -fZc293MpJk_0-1-rgb_front   3.33   3.68   \n",
      "1  -fZc293MpJk_2-1-rgb_front   8.59  16.84   \n",
      "2  -fZc293MpJk_3-1-rgb_front  16.84  24.81   \n",
      "3  -fZc293MpJk_4-1-rgb_front  27.89  35.86   \n",
      "4  -fZc293MpJk_5-1-rgb_front  36.30  42.18   \n",
      "\n",
      "                                            SENTENCE  \n",
      "0                                                Hi!  \n",
      "1  The aileron is the control surface in the wing...  \n",
      "2  By moving the stick, you cause pressure to inc...  \n",
      "3  The elevator is the part that moves with the s...  \n",
      "4  Therefore, it's either going uphill, downhill,...  \n",
      "Validation Data Sample: \n",
      "       VIDEO_ID               VIDEO_NAME     SENTENCE_ID  \\\n",
      "0  -d5dN54tH2E  -d5dN54tH2E-1-rgb_front   -d5dN54tH2E_0   \n",
      "1  -d5dN54tH2E  -d5dN54tH2E-1-rgb_front   -d5dN54tH2E_1   \n",
      "2  -d5dN54tH2E  -d5dN54tH2E-1-rgb_front  -d5dN54tH2E_10   \n",
      "3  -d5dN54tH2E  -d5dN54tH2E-1-rgb_front  -d5dN54tH2E_11   \n",
      "4  -d5dN54tH2E  -d5dN54tH2E-1-rgb_front  -d5dN54tH2E_12   \n",
      "\n",
      "                SENTENCE_NAME  START    END  \\\n",
      "0   -d5dN54tH2E_0-1-rgb_front   0.44   8.30   \n",
      "1   -d5dN54tH2E_1-1-rgb_front   8.30   9.67   \n",
      "2  -d5dN54tH2E_10-1-rgb_front  52.78  59.94   \n",
      "3  -d5dN54tH2E_11-1-rgb_front  60.03  61.75   \n",
      "4  -d5dN54tH2E_12-1-rgb_front  62.54  65.92   \n",
      "\n",
      "                                            SENTENCE  \n",
      "0  We're going to work on a arm drill that will h...  \n",
      "1                       I call it painting the wall.  \n",
      "2  So we're going to go up and down; let's switch...  \n",
      "3                  And just let those fingers relax.  \n",
      "4          Now together you're going to go opposite.  \n"
     ]
    }
   ],
   "source": [
    "# Function to load motion data from a pickle file\n",
    "def load_pickle_data(file_path):\n",
    "    with open(file_path, 'rb') as f:\n",
    "        data = pickle.load(f)\n",
    "    return data\n",
    "\n",
    "# Example path (modify as per your dataset structure)\n",
    "motion_pickle_path = \"C:/how to sign dataset/language_pkls_cropTrue_shapeTrue/_0fO5ETSwyg_0-5-rgb_front.pkl\"\n",
    "\n",
    "# Load the motion data\n",
    "motion_data = load_pickle_data(motion_pickle_path)\n",
    "\n",
    "# Inspect the loaded motion data\n",
    "print(\"Motion data keys:\", motion_data.keys())  # Check what keys are available in the pickle file\n",
    "\n",
    "# Paths to the CSV files\n",
    "train_csv_path = \"C:/how to sign dataset/language_pkls_cropTrue_shapeTrue/text_labels/how2sign_train.csv\"\n",
    "test_csv_path = \"C:/how to sign dataset/language_pkls_cropTrue_shapeTrue/text_labels/how2sign_test.csv\"\n",
    "validation_csv_path = \"C:/how to sign dataset/language_pkls_cropTrue_shapeTrue/text_labels/how2sign_val.csv\"\n",
    "\n",
    "# Load the CSV files\n",
    "train_df = pd.read_csv(train_csv_path, sep='\\t')\n",
    "test_df = pd.read_csv(test_csv_path, sep='\\t')\n",
    "validation_df = pd.read_csv(validation_csv_path, sep='\\t')\n",
    "\n",
    "# Inspect the data\n",
    "print(\"Train Data Sample: \\n\", train_df.head())\n",
    "print(\"Test Data Sample: \\n\", test_df.head())\n",
    "print(\"Validation Data Sample: \\n\", validation_df.head())\n"
   ]
  },
  {
   "cell_type": "code",
   "execution_count": 13,
   "metadata": {},
   "outputs": [],
   "source": [
    "# Set a fixed maximum sequence length for padding\n",
    "MAX_SEQ_LENGTH = 128  # Adjust this value based on your data\n"
   ]
  },
  {
   "cell_type": "code",
   "execution_count": 14,
   "metadata": {},
   "outputs": [
    {
     "name": "stderr",
     "output_type": "stream",
     "text": [
      "c:\\Users\\Admin\\AppData\\Local\\Programs\\Python\\Python311\\Lib\\site-packages\\transformers\\tokenization_utils_base.py:1601: FutureWarning: `clean_up_tokenization_spaces` was not set. It will be set to `True` by default. This behavior will be depracted in transformers v4.45, and will be then set to `False` by default. For more details check this issue: https://github.com/huggingface/transformers/issues/31884\n",
      "  warnings.warn(\n",
      "Generating Embeddings: 100%|██████████| 1948/1948 [02:06<00:00, 15.36it/s]\n",
      "Generating Embeddings: 100%|██████████| 148/148 [00:10<00:00, 14.39it/s]\n",
      "Generating Embeddings: 100%|██████████| 109/109 [00:07<00:00, 15.51it/s]"
     ]
    },
    {
     "name": "stdout",
     "output_type": "stream",
     "text": [
      "Train embeddings shape: torch.Size([31165, 128, 768])\n",
      "Test embeddings shape: torch.Size([2357, 128, 768])\n",
      "Validation embeddings shape: torch.Size([1741, 128, 768])\n"
     ]
    },
    {
     "name": "stderr",
     "output_type": "stream",
     "text": [
      "\n"
     ]
    }
   ],
   "source": [
    "# Load BERT tokenizer and model\n",
    "tokenizer = BertTokenizer.from_pretrained('bert-base-uncased')\n",
    "bert_model = BertModel.from_pretrained('bert-base-uncased')\n",
    "\n",
    "# Move the model to GPU if available\n",
    "bert_model = bert_model.to(device)\n",
    "\n",
    "# Function to generate embeddings for a list of sentences in batches\n",
    "def generate_embeddings_in_batches(sentences, batch_size=16):\n",
    "    all_embeddings = []\n",
    "    all_attention_masks = []\n",
    "    bert_model.eval()  # Set model to evaluation mode\n",
    "\n",
    "    with torch.no_grad():\n",
    "        for i in tqdm(range(0, len(sentences), batch_size), desc=\"Generating Embeddings\"):\n",
    "            batch_sentences = sentences[i:i+batch_size]\n",
    "            encoded_inputs = tokenizer(\n",
    "                list(batch_sentences),\n",
    "                return_tensors='pt',\n",
    "                padding='max_length',\n",
    "                truncation=True,\n",
    "                max_length=MAX_SEQ_LENGTH,\n",
    "                return_attention_mask=True\n",
    "            )\n",
    "            input_ids = encoded_inputs['input_ids'].to(device)\n",
    "            attention_mask = encoded_inputs['attention_mask'].to(device)\n",
    "\n",
    "            outputs = bert_model(input_ids=input_ids, attention_mask=attention_mask)\n",
    "            last_hidden_state = outputs.last_hidden_state  # Shape: (batch_size, MAX_SEQ_LENGTH, hidden_size)\n",
    "\n",
    "            all_embeddings.append(last_hidden_state.cpu())\n",
    "            all_attention_masks.append(attention_mask.cpu())\n",
    "\n",
    "    # Concatenate all batches\n",
    "    embeddings = torch.cat(all_embeddings, dim=0)  # Shape: (num_sentences, MAX_SEQ_LENGTH, hidden_size)\n",
    "    attention_masks = torch.cat(all_attention_masks, dim=0)  # Shape: (num_sentences, MAX_SEQ_LENGTH)\n",
    "\n",
    "    return embeddings, attention_masks\n",
    "\n",
    "# Generate embeddings and attention masks for the train, test, and validation sets\n",
    "train_embeddings, train_attention_masks = generate_embeddings_in_batches(train_df['SENTENCE'], batch_size=16)\n",
    "test_embeddings, test_attention_masks = generate_embeddings_in_batches(test_df['SENTENCE'], batch_size=16)\n",
    "validation_embeddings, validation_attention_masks = generate_embeddings_in_batches(validation_df['SENTENCE'], batch_size=16)\n",
    "\n",
    "print(f\"Train embeddings shape: {train_embeddings.shape}\")\n",
    "print(f\"Test embeddings shape: {test_embeddings.shape}\")\n",
    "print(f\"Validation embeddings shape: {validation_embeddings.shape}\")\n"
   ]
  },
  {
   "cell_type": "code",
   "execution_count": 15,
   "metadata": {},
   "outputs": [],
   "source": [
    "# Function to extract necessary motion parameters from the smplx data\n",
    "def extract_motion_data(motion_data):\n",
    "    # Extract parameters from smplx\n",
    "    smplx_data = motion_data['smplx']\n",
    "    root_pose = smplx_data[:, :3]  # Root pose\n",
    "    body_pose = smplx_data[:, 3:66]  # Body pose\n",
    "    left_hand_pose = smplx_data[:, 66:111]  # Left hand pose\n",
    "    right_hand_pose = smplx_data[:, 111:156]  # Right hand pose\n",
    "    return root_pose, body_pose, left_hand_pose, right_hand_pose\n",
    "\n",
    "# Function to pad or truncate motion sequences\n",
    "def pad_or_truncate_motion_sequence(motion_sequence, target_length):\n",
    "    seq_len = motion_sequence.shape[0]\n",
    "    if seq_len > target_length:\n",
    "        return motion_sequence[:target_length]\n",
    "    elif seq_len < target_length:\n",
    "        padding = np.zeros((target_length - seq_len, motion_sequence.shape[1]))\n",
    "        return np.concatenate([motion_sequence, padding], axis=0)\n",
    "    else:\n",
    "        return motion_sequence\n",
    "\n",
    "# Function to align text with motion data based on start and end times\n",
    "def align_text_with_motion(df, embeddings, attention_masks):\n",
    "    aligned_data = []\n",
    "    root_pose, body_pose, left_hand_pose, right_hand_pose = extract_motion_data(motion_data)\n",
    "\n",
    "    for idx in tqdm(range(len(df)), desc=\"Aligning Data\"):\n",
    "        row = df.iloc[idx]\n",
    "        video_id = row['VIDEO_ID']\n",
    "        start_frame = int(row['START'])\n",
    "        end_frame = int(row['END'])\n",
    "\n",
    "        # Extract motion segment based on frame indices\n",
    "        motion_segment_root = root_pose[start_frame:end_frame]\n",
    "        motion_segment_body = body_pose[start_frame:end_frame]\n",
    "        motion_segment_left_hand = left_hand_pose[start_frame:end_frame]\n",
    "        motion_segment_right_hand = right_hand_pose[start_frame:end_frame]\n",
    "\n",
    "        # Pad or truncate motion sequences to MAX_SEQ_LENGTH\n",
    "        motion_segment_root = pad_or_truncate_motion_sequence(motion_segment_root, MAX_SEQ_LENGTH)\n",
    "        motion_segment_body = pad_or_truncate_motion_sequence(motion_segment_body, MAX_SEQ_LENGTH)\n",
    "        motion_segment_left_hand = pad_or_truncate_motion_sequence(motion_segment_left_hand, MAX_SEQ_LENGTH)\n",
    "        motion_segment_right_hand = pad_or_truncate_motion_sequence(motion_segment_right_hand, MAX_SEQ_LENGTH)\n",
    "\n",
    "        motion_data_dict = {\n",
    "            'root_pose': torch.tensor(motion_segment_root, dtype=torch.float32),\n",
    "            'body_pose': torch.tensor(motion_segment_body, dtype=torch.float32),\n",
    "            'left_hand_pose': torch.tensor(motion_segment_left_hand, dtype=torch.float32),\n",
    "            'right_hand_pose': torch.tensor(motion_segment_right_hand, dtype=torch.float32)\n",
    "        }\n",
    "\n",
    "        aligned_data.append(motion_data_dict)\n",
    "\n",
    "    return aligned_data\n"
   ]
  },
  {
   "cell_type": "code",
   "execution_count": 16,
   "metadata": {},
   "outputs": [
    {
     "name": "stderr",
     "output_type": "stream",
     "text": [
      "Aligning Data: 100%|██████████| 31165/31165 [00:04<00:00, 6765.03it/s]\n",
      "Aligning Data: 100%|██████████| 2357/2357 [00:00<00:00, 9435.41it/s]\n",
      "Aligning Data: 100%|██████████| 1741/1741 [00:00<00:00, 9567.74it/s]\n"
     ]
    }
   ],
   "source": [
    "# Create datasets\n",
    "train_motion_data_list = align_text_with_motion(train_df, train_embeddings, train_attention_masks)\n",
    "test_motion_data_list = align_text_with_motion(test_df, test_embeddings, test_attention_masks)\n",
    "validation_motion_data_list = align_text_with_motion(validation_df, validation_embeddings, validation_attention_masks)\n",
    "\n",
    "class TextMotionDataset(Dataset):\n",
    "    def __init__(self, embeddings, attention_masks, motion_data_list):\n",
    "        self.embeddings = embeddings\n",
    "        self.attention_masks = attention_masks\n",
    "        self.motion_data_list = motion_data_list\n",
    "\n",
    "    def __len__(self):\n",
    "        return len(self.embeddings)\n",
    "\n",
    "    def __getitem__(self, idx):\n",
    "        return {\n",
    "            'text_embeddings': self.embeddings[idx],          # Shape: (MAX_SEQ_LENGTH, hidden_size)\n",
    "            'attention_mask': self.attention_masks[idx],      # Shape: (MAX_SEQ_LENGTH)\n",
    "            'motion_data': self.motion_data_list[idx]         # Dictionary with motion parameters\n",
    "        }\n",
    "\n",
    "# Create dataset instances\n",
    "train_dataset = TextMotionDataset(train_embeddings, train_attention_masks, train_motion_data_list)\n",
    "test_dataset = TextMotionDataset(test_embeddings, test_attention_masks, test_motion_data_list)\n",
    "validation_dataset = TextMotionDataset(validation_embeddings, validation_attention_masks, validation_motion_data_list)\n",
    "\n",
    "# Create DataLoaders\n",
    "train_loader = DataLoader(train_dataset, batch_size=16, shuffle=True)\n",
    "test_loader = DataLoader(test_dataset, batch_size=16, shuffle=False)\n",
    "validation_loader = DataLoader(validation_dataset, batch_size=16, shuffle=False)\n"
   ]
  },
  {
   "cell_type": "code",
   "execution_count": 19,
   "metadata": {},
   "outputs": [],
   "source": [
    "class TextToMotionTransformer(nn.Module):\n",
    "    def __init__(self, input_dim, hidden_dim=512, num_layers=4, num_heads=8):\n",
    "        super(TextToMotionTransformer, self).__init__()\n",
    "        # Transformer Encoder\n",
    "        encoder_layer = nn.TransformerEncoderLayer(d_model=input_dim, nhead=num_heads)\n",
    "        self.transformer_encoder = nn.TransformerEncoder(encoder_layer, num_layers=num_layers)\n",
    "\n",
    "        # Linear layers for predicting separate motion parameters\n",
    "        self.fc_root = nn.Linear(input_dim, 3)          # Root pose (3)\n",
    "        self.fc_body = nn.Linear(input_dim, 63)         # Body pose (63)\n",
    "        self.fc_left_hand = nn.Linear(input_dim, 45)    # Left hand pose (45)\n",
    "        self.fc_right_hand = nn.Linear(input_dim, 45)   # Right hand pose (45)\n",
    "\n",
    "    def forward(self, token_embeddings, attention_mask):\n",
    "        # token_embeddings: (batch_size, seq_length, input_dim)\n",
    "        # attention_mask: (batch_size, seq_length)\n",
    "\n",
    "        # Permute token_embeddings to match Transformer input requirements\n",
    "        token_embeddings = token_embeddings.permute(1, 0, 2)  # (seq_length, batch_size, input_dim)\n",
    "\n",
    "        # Convert attention mask to key_padding_mask (True for padding tokens)\n",
    "        key_padding_mask = attention_mask == 0  # Shape: (batch_size, seq_length)\n",
    "\n",
    "        # Pass through Transformer Encoder\n",
    "        transformer_output = self.transformer_encoder(\n",
    "            token_embeddings,\n",
    "            src_key_padding_mask=key_padding_mask  # (batch_size, seq_length)\n",
    "        )  # (seq_length, batch_size, input_dim)\n",
    "\n",
    "        # Transpose back to (batch_size, seq_length, input_dim)\n",
    "        transformer_output = transformer_output.permute(1, 0, 2)\n",
    "\n",
    "        # Predict motion parameters\n",
    "        root_pose = self.fc_root(transformer_output)           # (batch_size, seq_length, 3)\n",
    "        body_pose = self.fc_body(transformer_output)           # (batch_size, seq_length, 63)\n",
    "        left_hand_pose = self.fc_left_hand(transformer_output) # (batch_size, seq_length, 45)\n",
    "        right_hand_pose = self.fc_right_hand(transformer_output) # (batch_size, seq_length, 45)\n",
    "\n",
    "        return root_pose, body_pose, left_hand_pose, right_hand_pose\n"
   ]
  },
  {
   "cell_type": "code",
   "execution_count": 20,
   "metadata": {},
   "outputs": [
    {
     "name": "stderr",
     "output_type": "stream",
     "text": [
      "Epoch 1/15:   0%|          | 0/1948 [02:42<?, ?it/s]\n",
      "Epoch 1/15: 100%|██████████| 1948/1948 [02:06<00:00, 15.39it/s, Loss=0.114]\n",
      "                                                               \r"
     ]
    },
    {
     "name": "stdout",
     "output_type": "stream",
     "text": [
      "Epoch [1/15] Training Loss: 0.1249, Training Metrics: {'MSE': np.float32(0.006218533), 'MAE': np.float32(0.018256208), 'RMSE': np.float32(0.078857675), 'R2 Score': -7.582802772521973}\n"
     ]
    },
    {
     "name": "stderr",
     "output_type": "stream",
     "text": [
      "                                                             \r"
     ]
    },
    {
     "name": "stdout",
     "output_type": "stream",
     "text": [
      "Epoch [1/15] Validation Loss: 0.1300, Validation Metrics: {'MSE': np.float32(0.006615596), 'MAE': np.float32(0.018728677), 'RMSE': np.float32(0.08133631), 'R2 Score': -7.256680965423584}\n"
     ]
    },
    {
     "name": "stderr",
     "output_type": "stream",
     "text": [
      "Epoch 2/15: 100%|██████████| 1948/1948 [02:05<00:00, 15.47it/s, Loss=0.117] \n",
      "                                                               \r"
     ]
    },
    {
     "name": "stdout",
     "output_type": "stream",
     "text": [
      "Epoch [2/15] Training Loss: 0.1296, Training Metrics: {'MSE': np.float32(0.0066277995), 'MAE': np.float32(0.012327328), 'RMSE': np.float32(0.081411295), 'R2 Score': -11.200409889221191}\n"
     ]
    },
    {
     "name": "stderr",
     "output_type": "stream",
     "text": [
      "                                                             \r"
     ]
    },
    {
     "name": "stdout",
     "output_type": "stream",
     "text": [
      "Epoch [2/15] Validation Loss: 0.1352, Validation Metrics: {'MSE': np.float32(0.006893029), 'MAE': np.float32(0.012665555), 'RMSE': np.float32(0.08302427), 'R2 Score': -10.604116439819336}\n"
     ]
    },
    {
     "name": "stderr",
     "output_type": "stream",
     "text": [
      "Epoch 3/15: 100%|██████████| 1948/1948 [02:04<00:00, 15.61it/s, Loss=0.0847]\n",
      "                                                               \r"
     ]
    },
    {
     "name": "stdout",
     "output_type": "stream",
     "text": [
      "Epoch [3/15] Training Loss: 0.1315, Training Metrics: {'MSE': np.float32(0.006694063), 'MAE': np.float32(0.012864864), 'RMSE': np.float32(0.081817254), 'R2 Score': -0.7768277525901794}\n"
     ]
    },
    {
     "name": "stderr",
     "output_type": "stream",
     "text": [
      "                                                             \r"
     ]
    },
    {
     "name": "stdout",
     "output_type": "stream",
     "text": [
      "Epoch [3/15] Validation Loss: 0.1371, Validation Metrics: {'MSE': np.float32(0.0069726063), 'MAE': np.float32(0.013148791), 'RMSE': np.float32(0.083502136), 'R2 Score': -0.7614617943763733}\n"
     ]
    },
    {
     "name": "stderr",
     "output_type": "stream",
     "text": [
      "Epoch 4/15: 100%|██████████| 1948/1948 [02:03<00:00, 15.74it/s, Loss=0.2]   \n",
      "                                                               \r"
     ]
    },
    {
     "name": "stdout",
     "output_type": "stream",
     "text": [
      "Epoch [4/15] Training Loss: 0.1344, Training Metrics: {'MSE': np.float32(0.0067536905), 'MAE': np.float32(0.01260716), 'RMSE': np.float32(0.08218084), 'R2 Score': -0.8218551278114319}\n"
     ]
    },
    {
     "name": "stderr",
     "output_type": "stream",
     "text": [
      "                                                             \r"
     ]
    },
    {
     "name": "stdout",
     "output_type": "stream",
     "text": [
      "Epoch [4/15] Validation Loss: 0.1401, Validation Metrics: {'MSE': np.float32(0.0070451614), 'MAE': np.float32(0.012996897), 'RMSE': np.float32(0.08393546), 'R2 Score': -0.8013370037078857}\n"
     ]
    },
    {
     "name": "stderr",
     "output_type": "stream",
     "text": [
      "Epoch 5/15: 100%|██████████| 1948/1948 [02:04<00:00, 15.70it/s, Loss=0.0894]\n",
      "                                                               \r"
     ]
    },
    {
     "name": "stdout",
     "output_type": "stream",
     "text": [
      "Epoch [5/15] Training Loss: 0.1271, Training Metrics: {'MSE': np.float32(0.0066777254), 'MAE': np.float32(0.01564595), 'RMSE': np.float32(0.08171735), 'R2 Score': -11.220856666564941}\n"
     ]
    },
    {
     "name": "stderr",
     "output_type": "stream",
     "text": [
      "                                                             \r"
     ]
    },
    {
     "name": "stdout",
     "output_type": "stream",
     "text": [
      "Epoch [5/15] Validation Loss: 0.1325, Validation Metrics: {'MSE': np.float32(0.006999413), 'MAE': np.float32(0.01606034), 'RMSE': np.float32(0.083662495), 'R2 Score': -10.797680854797363}\n"
     ]
    },
    {
     "name": "stderr",
     "output_type": "stream",
     "text": [
      "Epoch 6/15: 100%|██████████| 1948/1948 [02:05<00:00, 15.54it/s, Loss=0.073] \n",
      "                                                               \r"
     ]
    },
    {
     "name": "stdout",
     "output_type": "stream",
     "text": [
      "Epoch [6/15] Training Loss: 0.1275, Training Metrics: {'MSE': np.float32(0.0064563095), 'MAE': np.float32(0.01131534), 'RMSE': np.float32(0.08035117), 'R2 Score': -0.2648164927959442}\n"
     ]
    },
    {
     "name": "stderr",
     "output_type": "stream",
     "text": [
      "                                                             \r"
     ]
    },
    {
     "name": "stdout",
     "output_type": "stream",
     "text": [
      "Epoch [6/15] Validation Loss: 0.1329, Validation Metrics: {'MSE': np.float32(0.0067146993), 'MAE': np.float32(0.011598934), 'RMSE': np.float32(0.081943266), 'R2 Score': -0.24459262192249298}\n"
     ]
    },
    {
     "name": "stderr",
     "output_type": "stream",
     "text": [
      "Epoch 7/15: 100%|██████████| 1948/1948 [02:04<00:00, 15.64it/s, Loss=0.0726]\n",
      "                                                               \r"
     ]
    },
    {
     "name": "stdout",
     "output_type": "stream",
     "text": [
      "Epoch [7/15] Training Loss: 0.1269, Training Metrics: {'MSE': np.float32(0.00643805), 'MAE': np.float32(0.011799504), 'RMSE': np.float32(0.08023746), 'R2 Score': -1.6872472763061523}\n"
     ]
    },
    {
     "name": "stderr",
     "output_type": "stream",
     "text": [
      "                                                             \r"
     ]
    },
    {
     "name": "stdout",
     "output_type": "stream",
     "text": [
      "Epoch [7/15] Validation Loss: 0.1323, Validation Metrics: {'MSE': np.float32(0.0066991057), 'MAE': np.float32(0.0120835975), 'RMSE': np.float32(0.08184806), 'R2 Score': -1.6867820024490356}\n"
     ]
    },
    {
     "name": "stderr",
     "output_type": "stream",
     "text": [
      "Epoch 8/15: 100%|██████████| 1948/1948 [02:04<00:00, 15.66it/s, Loss=0.128] \n",
      "                                                               \r"
     ]
    },
    {
     "name": "stdout",
     "output_type": "stream",
     "text": [
      "Epoch [8/15] Training Loss: 0.1279, Training Metrics: {'MSE': np.float32(0.006564784), 'MAE': np.float32(0.011245062), 'RMSE': np.float32(0.08102335), 'R2 Score': -2.7625105381011963}\n"
     ]
    },
    {
     "name": "stderr",
     "output_type": "stream",
     "text": [
      "                                                             \r"
     ]
    },
    {
     "name": "stdout",
     "output_type": "stream",
     "text": [
      "Epoch [8/15] Validation Loss: 0.1334, Validation Metrics: {'MSE': np.float32(0.0068253265), 'MAE': np.float32(0.011608797), 'RMSE': np.float32(0.08261553), 'R2 Score': -2.6980559825897217}\n"
     ]
    },
    {
     "name": "stderr",
     "output_type": "stream",
     "text": [
      "Epoch 9/15: 100%|██████████| 1948/1948 [02:04<00:00, 15.66it/s, Loss=0.128] \n",
      "                                                               \r"
     ]
    },
    {
     "name": "stdout",
     "output_type": "stream",
     "text": [
      "Epoch [9/15] Training Loss: 0.1280, Training Metrics: {'MSE': np.float32(0.0065224017), 'MAE': np.float32(0.0113624595), 'RMSE': np.float32(0.08076139), 'R2 Score': -0.11074535548686981}\n"
     ]
    },
    {
     "name": "stderr",
     "output_type": "stream",
     "text": [
      "                                                             \r"
     ]
    },
    {
     "name": "stdout",
     "output_type": "stream",
     "text": [
      "Epoch [9/15] Validation Loss: 0.1335, Validation Metrics: {'MSE': np.float32(0.0067831087), 'MAE': np.float32(0.01170039), 'RMSE': np.float32(0.08235963), 'R2 Score': -0.09917089343070984}\n"
     ]
    },
    {
     "name": "stderr",
     "output_type": "stream",
     "text": [
      "Epoch 10/15: 100%|██████████| 1948/1948 [02:04<00:00, 15.70it/s, Loss=0.146] \n",
      "                                                               \r"
     ]
    },
    {
     "name": "stdout",
     "output_type": "stream",
     "text": [
      "Epoch [10/15] Training Loss: 0.1263, Training Metrics: {'MSE': np.float32(0.006376132), 'MAE': np.float32(0.012022845), 'RMSE': np.float32(0.07985069), 'R2 Score': -0.18783988058567047}\n"
     ]
    },
    {
     "name": "stderr",
     "output_type": "stream",
     "text": [
      "                                                             \r"
     ]
    },
    {
     "name": "stdout",
     "output_type": "stream",
     "text": [
      "Epoch [10/15] Validation Loss: 0.1317, Validation Metrics: {'MSE': np.float32(0.006668713), 'MAE': np.float32(0.0123437345), 'RMSE': np.float32(0.081662185), 'R2 Score': -0.16389137506484985}\n"
     ]
    },
    {
     "name": "stderr",
     "output_type": "stream",
     "text": [
      "Epoch 11/15: 100%|██████████| 1948/1948 [02:03<00:00, 15.81it/s, Loss=0.114] \n",
      "                                                               \r"
     ]
    },
    {
     "name": "stdout",
     "output_type": "stream",
     "text": [
      "Epoch [11/15] Training Loss: 0.1274, Training Metrics: {'MSE': np.float32(0.006489478), 'MAE': np.float32(0.010919553), 'RMSE': np.float32(0.080557294), 'R2 Score': -0.24306876957416534}\n"
     ]
    },
    {
     "name": "stderr",
     "output_type": "stream",
     "text": [
      "                                                             \r"
     ]
    },
    {
     "name": "stdout",
     "output_type": "stream",
     "text": [
      "Epoch [11/15] Validation Loss: 0.1328, Validation Metrics: {'MSE': np.float32(0.006748226), 'MAE': np.float32(0.0113468915), 'RMSE': np.float32(0.08214758), 'R2 Score': -0.23351550102233887}\n"
     ]
    },
    {
     "name": "stderr",
     "output_type": "stream",
     "text": [
      "Epoch 12/15: 100%|██████████| 1948/1948 [02:03<00:00, 15.78it/s, Loss=0.137] \n",
      "                                                               \r"
     ]
    },
    {
     "name": "stdout",
     "output_type": "stream",
     "text": [
      "Epoch [12/15] Training Loss: 0.1264, Training Metrics: {'MSE': np.float32(0.006382434), 'MAE': np.float32(0.012336468), 'RMSE': np.float32(0.07989014), 'R2 Score': -0.31727755069732666}\n"
     ]
    },
    {
     "name": "stderr",
     "output_type": "stream",
     "text": [
      "                                                             \r"
     ]
    },
    {
     "name": "stdout",
     "output_type": "stream",
     "text": [
      "Epoch [12/15] Validation Loss: 0.1318, Validation Metrics: {'MSE': np.float32(0.0066747344), 'MAE': np.float32(0.01263413), 'RMSE': np.float32(0.08169905), 'R2 Score': -0.30029168725013733}\n"
     ]
    },
    {
     "name": "stderr",
     "output_type": "stream",
     "text": [
      "Epoch 13/15: 100%|██████████| 1948/1948 [02:04<00:00, 15.70it/s, Loss=0.115] \n",
      "                                                               \r"
     ]
    },
    {
     "name": "stdout",
     "output_type": "stream",
     "text": [
      "Epoch [13/15] Training Loss: 0.1277, Training Metrics: {'MSE': np.float32(0.0065565), 'MAE': np.float32(0.011131434), 'RMSE': np.float32(0.08097222), 'R2 Score': -0.8932381868362427}\n"
     ]
    },
    {
     "name": "stderr",
     "output_type": "stream",
     "text": [
      "                                                             \r"
     ]
    },
    {
     "name": "stdout",
     "output_type": "stream",
     "text": [
      "Epoch [13/15] Validation Loss: 0.1332, Validation Metrics: {'MSE': np.float32(0.0068155243), 'MAE': np.float32(0.01151398), 'RMSE': np.float32(0.08255619), 'R2 Score': -0.8969926238059998}\n"
     ]
    },
    {
     "name": "stderr",
     "output_type": "stream",
     "text": [
      "Epoch 14/15: 100%|██████████| 1948/1948 [02:03<00:00, 15.73it/s, Loss=0.166] \n",
      "                                                               \r"
     ]
    },
    {
     "name": "stdout",
     "output_type": "stream",
     "text": [
      "Epoch [14/15] Training Loss: 0.1315, Training Metrics: {'MSE': np.float32(0.006715854), 'MAE': np.float32(0.0119785955), 'RMSE': np.float32(0.081950314), 'R2 Score': -0.8862830996513367}\n"
     ]
    },
    {
     "name": "stderr",
     "output_type": "stream",
     "text": [
      "                                                             \r"
     ]
    },
    {
     "name": "stdout",
     "output_type": "stream",
     "text": [
      "Epoch [14/15] Validation Loss: 0.1372, Validation Metrics: {'MSE': np.float32(0.0069964873), 'MAE': np.float32(0.0123031065), 'RMSE': np.float32(0.08364501), 'R2 Score': -0.8247396945953369}\n"
     ]
    },
    {
     "name": "stderr",
     "output_type": "stream",
     "text": [
      "Epoch 15/15: 100%|██████████| 1948/1948 [02:05<00:00, 15.58it/s, Loss=0.113] \n",
      "                                                               \r"
     ]
    },
    {
     "name": "stdout",
     "output_type": "stream",
     "text": [
      "Epoch [15/15] Training Loss: 0.1270, Training Metrics: {'MSE': np.float32(0.006440042), 'MAE': np.float32(0.011275066), 'RMSE': np.float32(0.080249876), 'R2 Score': -2.0347766876220703}\n"
     ]
    },
    {
     "name": "stderr",
     "output_type": "stream",
     "text": [
      "                                                             \r"
     ]
    },
    {
     "name": "stdout",
     "output_type": "stream",
     "text": [
      "Epoch [15/15] Validation Loss: 0.1324, Validation Metrics: {'MSE': np.float32(0.006699767), 'MAE': np.float32(0.011547479), 'RMSE': np.float32(0.0818521), 'R2 Score': -2.0800883769989014}\n"
     ]
    },
    {
     "name": "stderr",
     "output_type": "stream",
     "text": [
      "                                                             \r"
     ]
    },
    {
     "name": "stdout",
     "output_type": "stream",
     "text": [
      "Test Loss: 0.1314, Test Metrics: {'MSE': np.float32(0.00665146), 'MAE': np.float32(0.011481967), 'RMSE': np.float32(0.081556484), 'R2 Score': -1.9822744131088257}\n"
     ]
    }
   ],
   "source": [
    "# Initialize the model, loss function, and optimizer\n",
    "model = TextToMotionTransformer(input_dim=768).to(device)\n",
    "criterion = nn.MSELoss()  # Mean Squared Error Loss\n",
    "optimizer = optim.Adam(model.parameters(), lr=0.001)\n",
    "\n",
    "# Evaluation function to calculate various metrics\n",
    "def evaluate(model, data_loader):\n",
    "    model.eval()\n",
    "    total_loss = 0\n",
    "    total_samples = 0\n",
    "    all_preds = []\n",
    "    all_targets = []\n",
    "\n",
    "    with torch.no_grad():\n",
    "        for batch_data in tqdm(data_loader, desc=\"Evaluating\", leave=False):\n",
    "            # Move data to device\n",
    "            text_embeddings = batch_data['text_embeddings'].to(device)    # (batch_size, seq_length, input_dim)\n",
    "            attention_mask = batch_data['attention_mask'].to(device)      # (batch_size, seq_length)\n",
    "            motion_data = batch_data['motion_data']\n",
    "\n",
    "            motion_data_root = motion_data['root_pose'].to(device)            # (batch_size, seq_length, 3)\n",
    "            motion_data_body = motion_data['body_pose'].to(device)            # (batch_size, seq_length, 63)\n",
    "            motion_data_left_hand = motion_data['left_hand_pose'].to(device)  # (batch_size, seq_length, 45)\n",
    "            motion_data_right_hand = motion_data['right_hand_pose'].to(device)# (batch_size, seq_length, 45)\n",
    "\n",
    "            # Forward pass\n",
    "            root_pose_pred, body_pose_pred, left_hand_pred, right_hand_pred = model(text_embeddings, attention_mask)\n",
    "\n",
    "            # Compute loss\n",
    "            loss_root = criterion(root_pose_pred, motion_data_root)\n",
    "            loss_body = criterion(body_pose_pred, motion_data_body)\n",
    "            loss_left_hand = criterion(left_hand_pred, motion_data_left_hand)\n",
    "            loss_right_hand = criterion(right_hand_pred, motion_data_right_hand)\n",
    "\n",
    "            # Total loss\n",
    "            total_loss += (loss_root + loss_body + loss_left_hand + loss_right_hand).item()\n",
    "            total_samples += 1\n",
    "\n",
    "            # Collect predictions and targets for evaluation metrics\n",
    "            preds = torch.cat([root_pose_pred, body_pose_pred, left_hand_pred, right_hand_pred], dim=-1).cpu().numpy()\n",
    "            targets = torch.cat([motion_data_root, motion_data_body, motion_data_left_hand, motion_data_right_hand], dim=-1).cpu().numpy()\n",
    "\n",
    "            all_preds.append(preds)\n",
    "            all_targets.append(targets)\n",
    "\n",
    "    # Concatenate all predictions and targets\n",
    "    all_preds = np.concatenate(all_preds, axis=0)     # (num_samples, seq_length, total_pose_dim)\n",
    "    all_targets = np.concatenate(all_targets, axis=0) # (num_samples, seq_length, total_pose_dim)\n",
    "\n",
    "    # Flatten sequences for metric calculation\n",
    "    all_preds_flat = all_preds.reshape(-1, all_preds.shape[-1])\n",
    "    all_targets_flat = all_targets.reshape(-1, all_targets.shape[-1])\n",
    "\n",
    "    # Calculate evaluation metrics\n",
    "    mse = mean_squared_error(all_targets_flat, all_preds_flat)\n",
    "    mae = mean_absolute_error(all_targets_flat, all_preds_flat)\n",
    "    rmse = np.sqrt(mse)\n",
    "    r2 = r2_score(all_targets_flat, all_preds_flat)\n",
    "\n",
    "    metrics = {\n",
    "        'MSE': mse,\n",
    "        'MAE': mae,\n",
    "        'RMSE': rmse,\n",
    "        'R2 Score': r2\n",
    "    }\n",
    "\n",
    "    return metrics, total_loss / total_samples\n",
    "\n",
    "# Training loop with progress bar\n",
    "num_epochs = 15\n",
    "for epoch in range(num_epochs):\n",
    "    model.train()\n",
    "    train_loss = 0\n",
    "    pbar = tqdm(total=len(train_loader), desc=f\"Epoch {epoch+1}/{num_epochs}\", leave=True)\n",
    "\n",
    "    for batch_idx, batch_data in enumerate(train_loader):\n",
    "        # Move data to device\n",
    "        text_embeddings = batch_data['text_embeddings'].to(device)    # (batch_size, seq_length, input_dim)\n",
    "        attention_mask = batch_data['attention_mask'].to(device)      # (batch_size, seq_length)\n",
    "        motion_data = batch_data['motion_data']\n",
    "\n",
    "        motion_data_root = motion_data['root_pose'].to(device)            # (batch_size, seq_length, 3)\n",
    "        motion_data_body = motion_data['body_pose'].to(device)            # (batch_size, seq_length, 63)\n",
    "        motion_data_left_hand = motion_data['left_hand_pose'].to(device)  # (batch_size, seq_length, 45)\n",
    "        motion_data_right_hand = motion_data['right_hand_pose'].to(device)# (batch_size, seq_length, 45)\n",
    "\n",
    "        # Forward pass\n",
    "        root_pose_pred, body_pose_pred, left_hand_pred, right_hand_pred = model(text_embeddings, attention_mask)\n",
    "\n",
    "        # Compute loss\n",
    "        loss_root = criterion(root_pose_pred, motion_data_root)\n",
    "        loss_body = criterion(body_pose_pred, motion_data_body)\n",
    "        loss_left_hand = criterion(left_hand_pred, motion_data_left_hand)\n",
    "        loss_right_hand = criterion(right_hand_pred, motion_data_right_hand)\n",
    "\n",
    "        # Total loss\n",
    "        total_loss = loss_root + loss_body + loss_left_hand + loss_right_hand\n",
    "\n",
    "        # Backpropagation and optimization\n",
    "        optimizer.zero_grad()\n",
    "        total_loss.backward()\n",
    "        optimizer.step()\n",
    "\n",
    "        train_loss += total_loss.item()\n",
    "        pbar.set_postfix({'Loss': total_loss.item()})\n",
    "        pbar.update(1)\n",
    "\n",
    "    pbar.close()\n",
    "\n",
    "    # Evaluate on training set\n",
    "    train_metrics, avg_train_loss = evaluate(model, train_loader)\n",
    "    print(f\"Epoch [{epoch+1}/{num_epochs}] Training Loss: {avg_train_loss:.4f}, Training Metrics: {train_metrics}\")\n",
    "\n",
    "    # Evaluate on validation set\n",
    "    val_metrics, avg_val_loss = evaluate(model, validation_loader)\n",
    "    print(f\"Epoch [{epoch+1}/{num_epochs}] Validation Loss: {avg_val_loss:.4f}, Validation Metrics: {val_metrics}\")\n",
    "\n",
    "# Final Evaluation on Test Set\n",
    "test_metrics, avg_test_loss = evaluate(model, test_loader)\n",
    "print(f\"Test Loss: {avg_test_loss:.4f}, Test Metrics: {test_metrics}\")\n",
    "\n",
    "# Save the model and embeddings\n",
    "torch.save(model.state_dict(), \"text_to_motion_transformer.pth\")\n",
    "torch.save({\n",
    "    'train_embeddings': train_embeddings,\n",
    "    'train_attention_masks': train_attention_masks,\n",
    "    'test_embeddings': test_embeddings,\n",
    "    'test_attention_masks': test_attention_masks,\n",
    "    'validation_embeddings': validation_embeddings,\n",
    "    'validation_attention_masks': validation_attention_masks\n",
    "}, 'embeddings_and_masks.pth')\n"
   ]
  },
  {
   "cell_type": "code",
   "execution_count": 23,
   "metadata": {},
   "outputs": [
    {
     "name": "stderr",
     "output_type": "stream",
     "text": [
      "C:\\Users\\Admin\\AppData\\Local\\Temp\\ipykernel_16336\\3277169616.py:12: FutureWarning: You are using `torch.load` with `weights_only=False` (the current default value), which uses the default pickle module implicitly. It is possible to construct malicious pickle data which will execute arbitrary code during unpickling (See https://github.com/pytorch/pytorch/blob/main/SECURITY.md#untrusted-models for more details). In a future release, the default value for `weights_only` will be flipped to `True`. This limits the functions that could be executed during unpickling. Arbitrary objects will no longer be allowed to be loaded via this mode unless they are explicitly allowlisted by the user via `torch.serialization.add_safe_globals`. We recommend you start setting `weights_only=True` for any use case where you don't have full control of the loaded file. Please open an issue on GitHub for any issues related to this experimental feature.\n",
      "  model.load_state_dict(torch.load(model_path, map_location='cpu'))  # Load model onto CPU\n",
      "C:\\Users\\Admin\\AppData\\Local\\Temp\\ipykernel_16336\\3277169616.py:17: FutureWarning: You are using `torch.load` with `weights_only=False` (the current default value), which uses the default pickle module implicitly. It is possible to construct malicious pickle data which will execute arbitrary code during unpickling (See https://github.com/pytorch/pytorch/blob/main/SECURITY.md#untrusted-models for more details). In a future release, the default value for `weights_only` will be flipped to `True`. This limits the functions that could be executed during unpickling. Arbitrary objects will no longer be allowed to be loaded via this mode unless they are explicitly allowlisted by the user via `torch.serialization.add_safe_globals`. We recommend you start setting `weights_only=True` for any use case where you don't have full control of the loaded file. Please open an issue on GitHub for any issues related to this experimental feature.\n",
      "  saved_data = torch.load(embedding_path, map_location='cpu')\n"
     ]
    },
    {
     "name": "stdout",
     "output_type": "stream",
     "text": [
      "Model and embeddings loaded successfully!\n"
     ]
    },
    {
     "data": {
      "text/plain": [
       "19"
      ]
     },
     "execution_count": 23,
     "metadata": {},
     "output_type": "execute_result"
    }
   ],
   "source": [
    "import torch\n",
    "import gc\n",
    "\n",
    "# Free up memory by clearing any existing cached data\n",
    "torch.cuda.empty_cache()\n",
    "gc.collect()\n",
    "\n",
    "# Function to load the trained model and embeddings on CPU\n",
    "def load_model_and_embeddings_cpu(model_path, embedding_path):\n",
    "    # Load the model onto the CPU to avoid memory overflow on GPU\n",
    "    model = TextToMotionTransformer(input_dim=768)  # Ensure input_dim matches the one used during training\n",
    "    model.load_state_dict(torch.load(model_path, map_location='cpu'))  # Load model onto CPU\n",
    "    model.to(device)  # Move model to GPU if available\n",
    "    model.eval()\n",
    "\n",
    "    # Load embeddings and attention masks onto CPU\n",
    "    saved_data = torch.load(embedding_path, map_location='cpu')\n",
    "    train_embeddings = saved_data['train_embeddings']\n",
    "    train_attention_masks = saved_data['train_attention_masks']\n",
    "    test_embeddings = saved_data['test_embeddings']\n",
    "    test_attention_masks = saved_data['test_attention_masks']\n",
    "    validation_embeddings = saved_data['validation_embeddings']\n",
    "    validation_attention_masks = saved_data['validation_attention_masks']\n",
    "\n",
    "    return model, train_embeddings, train_attention_masks, test_embeddings, test_attention_masks, validation_embeddings, validation_attention_masks\n",
    "\n",
    "# Load model and embeddings on CPU and move the model to GPU afterward\n",
    "model, train_embeddings, train_attention_masks, test_embeddings, test_attention_masks, validation_embeddings, validation_attention_masks = load_model_and_embeddings_cpu(model_path, embedding_path)\n",
    "print(\"Model and embeddings loaded successfully!\")\n",
    "\n",
    "# Free up any additional memory after loading\n",
    "torch.cuda.empty_cache()\n",
    "gc.collect()\n"
   ]
  },
  {
   "cell_type": "code",
   "execution_count": 24,
   "metadata": {},
   "outputs": [
    {
     "data": {
      "text/plain": [
       "TextToMotionTransformer(\n",
       "  (transformer_encoder): TransformerEncoder(\n",
       "    (layers): ModuleList(\n",
       "      (0-3): 4 x TransformerEncoderLayer(\n",
       "        (self_attn): MultiheadAttention(\n",
       "          (out_proj): NonDynamicallyQuantizableLinear(in_features=768, out_features=768, bias=True)\n",
       "        )\n",
       "        (linear1): Linear(in_features=768, out_features=2048, bias=True)\n",
       "        (dropout): Dropout(p=0.1, inplace=False)\n",
       "        (linear2): Linear(in_features=2048, out_features=768, bias=True)\n",
       "        (norm1): LayerNorm((768,), eps=1e-05, elementwise_affine=True)\n",
       "        (norm2): LayerNorm((768,), eps=1e-05, elementwise_affine=True)\n",
       "        (dropout1): Dropout(p=0.1, inplace=False)\n",
       "        (dropout2): Dropout(p=0.1, inplace=False)\n",
       "      )\n",
       "    )\n",
       "  )\n",
       "  (fc_root): Linear(in_features=768, out_features=3, bias=True)\n",
       "  (fc_body): Linear(in_features=768, out_features=63, bias=True)\n",
       "  (fc_left_hand): Linear(in_features=768, out_features=45, bias=True)\n",
       "  (fc_right_hand): Linear(in_features=768, out_features=45, bias=True)\n",
       ")"
      ]
     },
     "execution_count": 24,
     "metadata": {},
     "output_type": "execute_result"
    }
   ],
   "source": [
    "# Move the model and inputs to CPU for evaluation\n",
    "device = torch.device('cpu')\n",
    "model.to(device)\n"
   ]
  },
  {
   "cell_type": "code",
   "execution_count": 25,
   "metadata": {},
   "outputs": [
    {
     "name": "stderr",
     "output_type": "stream",
     "text": [
      "c:\\Users\\Admin\\AppData\\Local\\Programs\\Python\\Python311\\Lib\\site-packages\\transformers\\tokenization_utils_base.py:1601: FutureWarning: `clean_up_tokenization_spaces` was not set. It will be set to `True` by default. This behavior will be depracted in transformers v4.45, and will be then set to `False` by default. For more details check this issue: https://github.com/huggingface/transformers/issues/31884\n",
      "  warnings.warn(\n"
     ]
    }
   ],
   "source": [
    "# Load the BERT tokenizer and model (same as used during training)\n",
    "tokenizer = BertTokenizer.from_pretrained('bert-base-uncased')\n",
    "bert_model = BertModel.from_pretrained('bert-base-uncased')\n",
    "bert_model.to(device)\n",
    "bert_model.eval()\n",
    "\n",
    "# Function to generate BERT embeddings for a given text input\n",
    "def generate_bert_embeddings(text):\n",
    "    # Tokenize and generate token embeddings\n",
    "    inputs = tokenizer(\n",
    "        text,\n",
    "        return_tensors='pt',\n",
    "        padding='max_length',\n",
    "        truncation=True,\n",
    "        max_length=128,  # Ensure this matches the MAX_SEQ_LENGTH used during training\n",
    "        return_attention_mask=True\n",
    "    )\n",
    "    inputs = {key: value.to(device) for key, value in inputs.items()}\n",
    "\n",
    "    with torch.no_grad():\n",
    "        outputs = bert_model(**inputs)\n",
    "\n",
    "    # Get the token embeddings (last hidden state)\n",
    "    token_embeddings = outputs.last_hidden_state.squeeze(0)  # Remove batch dimension\n",
    "    attention_mask = inputs['attention_mask'].squeeze(0)     # Remove batch dimension\n",
    "\n",
    "    return token_embeddings, attention_mask\n"
   ]
  },
  {
   "cell_type": "code",
   "execution_count": 30,
   "metadata": {},
   "outputs": [
    {
     "name": "stdout",
     "output_type": "stream",
     "text": [
      "Root Pose Prediction:\n",
      " [[[0.03734382 0.00041058 0.00052578]\n",
      "  [0.03734384 0.00041058 0.00052578]\n",
      "  [0.03734382 0.00041058 0.00052578]\n",
      "  [0.03734381 0.00041058 0.00052578]\n",
      "  [0.03734381 0.00041058 0.00052578]\n",
      "  [0.03734382 0.00041058 0.00052578]\n",
      "  [0.03734384 0.00041058 0.00052578]\n",
      "  [0.03734383 0.00041058 0.00052578]\n",
      "  [0.03734384 0.00041058 0.00052578]\n",
      "  [0.03734383 0.00041058 0.00052578]\n",
      "  [0.03734383 0.00041058 0.00052578]\n",
      "  [0.03734383 0.00041058 0.00052578]\n",
      "  [0.03734382 0.00041058 0.00052578]\n",
      "  [0.03734383 0.00041058 0.00052578]\n",
      "  [0.03734384 0.00041058 0.00052578]\n",
      "  [0.03734382 0.00041058 0.00052578]\n",
      "  [0.03734384 0.00041058 0.00052578]\n",
      "  [0.03734383 0.00041058 0.00052578]\n",
      "  [0.03734383 0.00041058 0.00052578]\n",
      "  [0.03734381 0.00041058 0.00052578]\n",
      "  [0.03734381 0.00041058 0.00052578]\n",
      "  [0.03734383 0.00041058 0.00052578]\n",
      "  [0.03734384 0.00041058 0.00052578]\n",
      "  [0.03734383 0.00041058 0.00052578]\n",
      "  [0.03734382 0.00041058 0.00052578]\n",
      "  [0.03734383 0.00041058 0.00052578]\n",
      "  [0.03734383 0.00041058 0.00052578]\n",
      "  [0.03734381 0.00041058 0.00052578]\n",
      "  [0.03734383 0.00041058 0.00052578]\n",
      "  [0.03734383 0.00041058 0.00052578]\n",
      "  [0.03734381 0.00041058 0.00052578]\n",
      "  [0.03734383 0.00041058 0.00052578]\n",
      "  [0.03734383 0.00041058 0.00052578]\n",
      "  [0.03734383 0.00041058 0.00052578]\n",
      "  [0.03734383 0.00041058 0.00052578]\n",
      "  [0.03734383 0.00041058 0.00052578]\n",
      "  [0.03734384 0.00041058 0.00052578]\n",
      "  [0.03734384 0.00041058 0.00052578]\n",
      "  [0.03734383 0.00041058 0.00052578]\n",
      "  [0.03734384 0.00041058 0.00052578]\n",
      "  [0.03734383 0.00041058 0.00052578]\n",
      "  [0.03734383 0.00041058 0.00052578]\n",
      "  [0.03734383 0.00041058 0.00052578]\n",
      "  [0.03734383 0.00041058 0.00052578]\n",
      "  [0.03734383 0.00041058 0.00052578]\n",
      "  [0.03734383 0.00041058 0.00052578]\n",
      "  [0.03734383 0.00041058 0.00052578]\n",
      "  [0.03734383 0.00041058 0.00052578]\n",
      "  [0.03734383 0.00041058 0.00052578]\n",
      "  [0.03734381 0.00041058 0.00052578]\n",
      "  [0.03734381 0.00041058 0.00052578]\n",
      "  [0.03734383 0.00041058 0.00052578]\n",
      "  [0.03734381 0.00041058 0.00052578]\n",
      "  [0.03734383 0.00041058 0.00052578]\n",
      "  [0.03734384 0.00041058 0.00052578]\n",
      "  [0.03734383 0.00041058 0.00052578]\n",
      "  [0.03734383 0.00041058 0.00052578]\n",
      "  [0.03734383 0.00041058 0.00052578]\n",
      "  [0.03734384 0.00041058 0.00052578]\n",
      "  [0.03734383 0.00041058 0.00052578]\n",
      "  [0.03734383 0.00041058 0.00052578]\n",
      "  [0.03734383 0.00041058 0.00052578]\n",
      "  [0.03734384 0.00041058 0.00052578]\n",
      "  [0.03734383 0.00041058 0.00052578]\n",
      "  [0.03734383 0.00041058 0.00052578]\n",
      "  [0.03734382 0.00041058 0.00052578]\n",
      "  [0.03734384 0.00041058 0.00052578]\n",
      "  [0.03734384 0.00041058 0.00052578]\n",
      "  [0.03734382 0.00041058 0.00052578]\n",
      "  [0.03734382 0.00041058 0.00052578]\n",
      "  [0.03734381 0.00041058 0.00052578]\n",
      "  [0.03734383 0.00041058 0.00052578]\n",
      "  [0.03734383 0.00041058 0.00052578]\n",
      "  [0.03734382 0.00041058 0.00052578]\n",
      "  [0.03734382 0.00041058 0.00052578]\n",
      "  [0.03734384 0.00041058 0.00052578]\n",
      "  [0.03734383 0.00041058 0.00052578]\n",
      "  [0.03734384 0.00041058 0.00052578]\n",
      "  [0.03734383 0.00041058 0.00052578]\n",
      "  [0.03734383 0.00041058 0.00052578]\n",
      "  [0.03734383 0.00041058 0.00052578]\n",
      "  [0.03734383 0.00041058 0.00052578]\n",
      "  [0.03734383 0.00041058 0.00052578]\n",
      "  [0.03734384 0.00041058 0.00052578]\n",
      "  [0.03734383 0.00041058 0.00052578]\n",
      "  [0.03734383 0.00041058 0.00052578]\n",
      "  [0.03734382 0.00041058 0.00052578]\n",
      "  [0.03734383 0.00041058 0.00052578]\n",
      "  [0.03734381 0.00041058 0.00052578]\n",
      "  [0.03734382 0.00041058 0.00052578]\n",
      "  [0.03734383 0.00041058 0.00052578]\n",
      "  [0.03734383 0.00041058 0.00052578]\n",
      "  [0.03734381 0.00041058 0.00052578]\n",
      "  [0.03734382 0.00041058 0.00052578]\n",
      "  [0.03734384 0.00041058 0.00052578]\n",
      "  [0.03734383 0.00041058 0.00052578]\n",
      "  [0.03734381 0.00041058 0.00052578]\n",
      "  [0.03734383 0.00041058 0.00052578]\n",
      "  [0.03734382 0.00041058 0.00052578]\n",
      "  [0.03734381 0.00041058 0.00052578]\n",
      "  [0.03734383 0.00041058 0.00052578]\n",
      "  [0.03734382 0.00041058 0.00052578]\n",
      "  [0.03734384 0.00041058 0.00052578]\n",
      "  [0.03734381 0.00041058 0.00052578]\n",
      "  [0.03734383 0.00041058 0.00052578]\n",
      "  [0.03734383 0.00041058 0.00052578]\n",
      "  [0.03734383 0.00041058 0.00052578]\n",
      "  [0.03734383 0.00041058 0.00052578]\n",
      "  [0.03734383 0.00041058 0.00052578]\n",
      "  [0.03734383 0.00041058 0.00052578]\n",
      "  [0.03734383 0.00041058 0.00052578]\n",
      "  [0.03734383 0.00041058 0.00052578]\n",
      "  [0.03734383 0.00041058 0.00052578]\n",
      "  [0.03734381 0.00041058 0.00052578]\n",
      "  [0.03734381 0.00041058 0.00052578]\n",
      "  [0.03734383 0.00041058 0.00052578]\n",
      "  [0.03734383 0.00041058 0.00052578]\n",
      "  [0.03734384 0.00041058 0.00052578]\n",
      "  [0.03734383 0.00041058 0.00052578]\n",
      "  [0.03734382 0.00041058 0.00052578]\n",
      "  [0.03734381 0.00041058 0.00052578]\n",
      "  [0.03734383 0.00041058 0.00052578]\n",
      "  [0.03734381 0.00041058 0.00052578]\n",
      "  [0.03734384 0.00041058 0.00052578]\n",
      "  [0.03734383 0.00041058 0.00052578]\n",
      "  [0.03734383 0.00041058 0.00052578]\n",
      "  [0.03734382 0.00041058 0.00052578]\n",
      "  [0.03734381 0.00041058 0.00052578]]]\n",
      "Body Pose Prediction:\n",
      " [[[-0.00273272  0.00137826  0.00258999 ... -0.00183895  0.0010862\n",
      "   -0.00327089]\n",
      "  [-0.00273272  0.00137826  0.00258999 ... -0.00183895  0.0010862\n",
      "   -0.00327089]\n",
      "  [-0.00273272  0.00137826  0.00258999 ... -0.00183895  0.0010862\n",
      "   -0.00327089]\n",
      "  ...\n",
      "  [-0.00273272  0.00137826  0.00258999 ... -0.00183895  0.0010862\n",
      "   -0.00327089]\n",
      "  [-0.00273272  0.00137826  0.00258999 ... -0.00183895  0.0010862\n",
      "   -0.00327089]\n",
      "  [-0.00273272  0.00137826  0.00258999 ... -0.00183895  0.0010862\n",
      "   -0.00327089]]]\n",
      "Left Hand Pose Prediction:\n",
      " [[[-2.1505179e-03  1.1478185e-03 -4.1114306e-03 ... -8.7986147e-05\n",
      "    6.2221428e-05  9.1558608e-04]\n",
      "  [-2.1505181e-03  1.1478192e-03 -4.1114343e-03 ... -8.7985856e-05\n",
      "    6.2221545e-05  9.1558555e-04]\n",
      "  [-2.1505179e-03  1.1478190e-03 -4.1114306e-03 ... -8.7986438e-05\n",
      "    6.2221370e-05  9.1558619e-04]\n",
      "  ...\n",
      "  [-2.1505179e-03  1.1478192e-03 -4.1114311e-03 ... -8.7986235e-05\n",
      "    6.2221137e-05  9.1558608e-04]\n",
      "  [-2.1505179e-03  1.1478185e-03 -4.1114306e-03 ... -8.7986497e-05\n",
      "    6.2221312e-05  9.1558608e-04]\n",
      "  [-2.1505184e-03  1.1478190e-03 -4.1114329e-03 ... -8.7986438e-05\n",
      "    6.2221137e-05  9.1558619e-04]]]\n",
      "Right Hand Pose Prediction:\n",
      " [[[-0.00162534  0.00117521  0.00440382 ...  0.0003007   0.00041492\n",
      "   -0.00052171]\n",
      "  [-0.00162534  0.00117521  0.00440382 ...  0.0003007   0.00041492\n",
      "   -0.00052171]\n",
      "  [-0.00162534  0.00117521  0.00440381 ...  0.0003007   0.00041492\n",
      "   -0.00052171]\n",
      "  ...\n",
      "  [-0.00162534  0.00117521  0.00440382 ...  0.0003007   0.00041492\n",
      "   -0.00052171]\n",
      "  [-0.00162534  0.00117521  0.00440382 ...  0.0003007   0.00041492\n",
      "   -0.00052171]\n",
      "  [-0.00162534  0.00117521  0.00440381 ...  0.0003007   0.00041492\n",
      "   -0.00052171]]]\n"
     ]
    }
   ],
   "source": [
    "# Example text input\n",
    "text_input = \"And just let those fingers relax\"\n",
    "\n",
    "# Generate BERT embeddings for the input text\n",
    "text_embeddings, attention_mask = generate_bert_embeddings(text_input)\n",
    "\n",
    "# Reshape embeddings and attention mask to match the expected input format\n",
    "text_embeddings = text_embeddings.unsqueeze(0)  # Shape: (1, seq_length, hidden_size)\n",
    "attention_mask = attention_mask.unsqueeze(0)    # Shape: (1, seq_length)\n",
    "\n",
    "# Move to the device\n",
    "text_embeddings = text_embeddings.to(device)\n",
    "attention_mask = attention_mask.to(device)\n",
    "\n",
    "# Pass through the model to generate motion parameters\n",
    "with torch.no_grad():\n",
    "    root_pose_pred, body_pose_pred, left_hand_pred, right_hand_pred = model(text_embeddings, attention_mask)\n",
    "\n",
    "# Print the predicted motion parameters\n",
    "print(\"Root Pose Prediction:\\n\", root_pose_pred.cpu().numpy())\n",
    "print(\"Body Pose Prediction:\\n\", body_pose_pred.cpu().numpy())\n",
    "print(\"Left Hand Pose Prediction:\\n\", left_hand_pred.cpu().numpy())\n",
    "print(\"Right Hand Pose Prediction:\\n\", right_hand_pred.cpu().numpy())\n"
   ]
  },
  {
   "cell_type": "code",
   "execution_count": 31,
   "metadata": {},
   "outputs": [
    {
     "data": {
      "image/png": "[encoded data removed]",
      "text/plain": [
       "<Figure size 1200x600 with 4 Axes>"
      ]
     },
     "metadata": {},
     "output_type": "display_data"
    }
   ],
   "source": [
    "import matplotlib.pyplot as plt\n",
    "\n",
    "def visualize_pose_over_time(root_pose, body_pose, left_hand_pose, right_hand_pose, num_frames=10):\n",
    "    \"\"\"\n",
    "    Visualizes the predicted root, body, and hand poses over time using line plots.\n",
    "    Args:\n",
    "    - root_pose (numpy array): Root pose predictions (seq_length, 3).\n",
    "    - body_pose (numpy array): Body pose predictions (seq_length, 63).\n",
    "    - left_hand_pose (numpy array): Left hand pose predictions (seq_length, 45).\n",
    "    - right_hand_pose (numpy array): Right hand pose predictions (seq_length, 45).\n",
    "    - num_frames (int): Number of frames to visualize. Default is 10.\n",
    "    \"\"\"\n",
    "    # Convert tensors to numpy arrays if needed\n",
    "    if isinstance(root_pose, torch.Tensor):\n",
    "        root_pose = root_pose.cpu().numpy()\n",
    "    if isinstance(body_pose, torch.Tensor):\n",
    "        body_pose = body_pose.cpu().numpy()\n",
    "    if isinstance(left_hand_pose, torch.Tensor):\n",
    "        left_hand_pose = left_hand_pose.cpu().numpy()\n",
    "    if isinstance(right_hand_pose, torch.Tensor):\n",
    "        right_hand_pose = right_hand_pose.cpu().numpy()\n",
    "\n",
    "    # Select a subset of frames for visualization\n",
    "    root_pose = root_pose[:num_frames]\n",
    "    body_pose = body_pose[:num_frames]\n",
    "    left_hand_pose = left_hand_pose[:num_frames]\n",
    "    right_hand_pose = right_hand_pose[:num_frames]\n",
    "\n",
    "    # Plot Root Pose over Time\n",
    "    plt.figure(figsize=(12, 6))\n",
    "    plt.subplot(2, 2, 1)\n",
    "    plt.plot(root_pose[:, 0], label='X')\n",
    "    plt.plot(root_pose[:, 1], label='Y')\n",
    "    plt.plot(root_pose[:, 2], label='Z')\n",
    "    plt.title('Root Pose over Time')\n",
    "    plt.xlabel('Frames')\n",
    "    plt.ylabel('Position')\n",
    "    plt.legend()\n",
    "\n",
    "    # Plot Body Pose over Time (for a selected joint)\n",
    "    plt.subplot(2, 2, 2)\n",
    "    plt.plot(body_pose[:, 0], label='Joint 1 (X)')\n",
    "    plt.plot(body_pose[:, 1], label='Joint 1 (Y)')\n",
    "    plt.plot(body_pose[:, 2], label='Joint 1 (Z)')\n",
    "    plt.title('Body Pose over Time')\n",
    "    plt.xlabel('Frames')\n",
    "    plt.ylabel('Position')\n",
    "    plt.legend()\n",
    "\n",
    "    # Plot Left Hand Pose over Time (for a selected joint)\n",
    "    plt.subplot(2, 2, 3)\n",
    "    plt.plot(left_hand_pose[:, 0], label='Joint 1 (X)')\n",
    "    plt.plot(left_hand_pose[:, 1], label='Joint 1 (Y)')\n",
    "    plt.plot(left_hand_pose[:, 2], label='Joint 1 (Z)')\n",
    "    plt.title('Left Hand Pose over Time')\n",
    "    plt.xlabel('Frames')\n",
    "    plt.ylabel('Position')\n",
    "    plt.legend()\n",
    "\n",
    "    # Plot Right Hand Pose over Time (for a selected joint)\n",
    "    plt.subplot(2, 2, 4)\n",
    "    plt.plot(right_hand_pose[:, 0], label='Joint 1 (X)')\n",
    "    plt.plot(right_hand_pose[:, 1], label='Joint 1 (Y)')\n",
    "    plt.plot(right_hand_pose[:, 2], label='Joint 1 (Z)')\n",
    "    plt.title('Right Hand Pose over Time')\n",
    "    plt.xlabel('Frames')\n",
    "    plt.ylabel('Position')\n",
    "    plt.legend()\n",
    "\n",
    "    plt.tight_layout()\n",
    "    plt.show()\n",
    "\n",
    "# Visualize the predictions for the first 10 frames\n",
    "visualize_pose_over_time(\n",
    "    root_pose_pred.squeeze(0),\n",
    "    body_pose_pred.squeeze(0),\n",
    "    left_hand_pred.squeeze(0),\n",
    "    right_hand_pred.squeeze(0),\n",
    "    num_frames=10\n",
    ")\n"
   ]
  },
  {
   "cell_type": "code",
   "execution_count": null,
   "metadata": {},
   "outputs": [],
   "source": []
  }
 ],
 "metadata": {
  "kernelspec": {
   "display_name": "Python 3",
   "language": "python",
   "name": "python3"
  },
  "language_info": {
   "codemirror_mode": {
    "name": "ipython",
    "version": 3
   },
   "file_extension": ".py",
   "mimetype": "text/x-python",
   "name": "python",
   "nbconvert_exporter": "python",
   "pygments_lexer": "ipython3",
   "version": "3.11.0"
  }
 },
 "nbformat": 4,
 "nbformat_minor": 2
}
